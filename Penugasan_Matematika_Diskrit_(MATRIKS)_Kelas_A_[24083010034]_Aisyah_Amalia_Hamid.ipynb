{
  "nbformat": 4,
  "nbformat_minor": 0,
  "metadata": {
    "colab": {
      "provenance": []
    },
    "kernelspec": {
      "name": "python3",
      "display_name": "Python 3"
    },
    "language_info": {
      "name": "python"
    }
  },
  "cells": [
    {
      "cell_type": "markdown",
      "source": [
        "# **Penugasan Matematika Diskrit (MATDIS)**\n",
        "## **MATRIKS**\n",
        "**Kelas (A)**\n",
        "\n",
        "24083010034"
      ],
      "metadata": {
        "id": "4tSlA4YEjbU4"
      }
    },
    {
      "cell_type": "code",
      "source": [
        "print(\"=\"*60)\n",
        "''' Test n Dari 1 Sampai 20 '''\n",
        "batas_atas = 20\n",
        "\n",
        "print(\"Menguji Kebenaran Pernyataan Matematika untuk n = 1 hingga\", batas_atas)"
      ],
      "metadata": {
        "colab": {
          "base_uri": "https://localhost:8080/"
        },
        "id": "b4gXtbAKjdgj",
        "outputId": "31eb529c-d33b-4082-9276-5e5fa2ae994c"
      },
      "execution_count": 64,
      "outputs": [
        {
          "output_type": "stream",
          "name": "stdout",
          "text": [
            "============================================================\n",
            "Menguji Kebenaran Pernyataan Matematika untuk n = 1 hingga 20\n"
          ]
        }
      ]
    },
    {
      "cell_type": "markdown",
      "source": [
        "> Set Batas Maksimum Nilai nn yang Akan Dicek. Sehingga, Semua Pernyataan Untuk n=1 Sampai 20."
      ],
      "metadata": {
        "id": "A4X4uvZItjax"
      }
    },
    {
      "cell_type": "code",
      "source": [
        "''' Jumlah dan Bilangan Ganjil Pertama = n^2 '''\n",
        "\n",
        "print(\"1. 1 + 3 + 5 + ... + (2n-1) == n^2\")\n",
        "valid_untuk = []\n",
        "\n",
        "for n in range(1, batas_atas + 1):\n",
        "    ''' Hitung Sisi Kiri: Jumlah Deret '''\n",
        "    sisi_kiri = 0\n",
        "\n",
        "    for i in range(1, n + 1):\n",
        "        suku_ke_i = (2 * i) - 1\n",
        "        sisi_kiri += suku_ke_i\n",
        "\n",
        "    ''' Hitung Sisi Kanan '''\n",
        "    sisi_kanan = n ** 2\n",
        "\n",
        "    ''' Uji Kesamaan '''\n",
        "    if sisi_kiri == sisi_kanan:\n",
        "        valid_untuk.append(str(n))\n",
        "    else:\n",
        "        print(f\"  Untuk n={n}, tidak valid. LHS: {sisi_kiri}, RHS: {sisi_kanan}\")\n",
        "\n",
        "print(\"=> Sehingga = Valid untuk n =\", \", \".join(valid_untuk))"
      ],
      "metadata": {
        "colab": {
          "base_uri": "https://localhost:8080/"
        },
        "id": "7nL6X4Xxjmud",
        "outputId": "256c34de-fa03-456c-90d8-e400bc1ddcb8"
      },
      "execution_count": 65,
      "outputs": [
        {
          "output_type": "stream",
          "name": "stdout",
          "text": [
            "1. 1 + 3 + 5 + ... + (2n-1) == n^2\n",
            "=> Sehingga = Valid untuk n = 1, 2, 3, 4, 5, 6, 7, 8, 9, 10, 11, 12, 13, 14, 15, 16, 17, 18, 19, 20\n"
          ]
        }
      ]
    },
    {
      "cell_type": "markdown",
      "source": [
        ">Jumlah Deret Bilangan Ganjil (Sisi Kiri) Dibandingkan Dengan n^2 (sisi kanan). Sehingga, Hasilnya Valid untuk Semua n."
      ],
      "metadata": {
        "id": "6zmY3uHJwKuI"
      }
    },
    {
      "cell_type": "code",
      "source": [
        "''' Jumlah Deret Geometri 2^n = 2^(n+1) - 1 '''\n",
        "\n",
        "print(\"2. 1 + 2 + 4 + ... + 2^n == 2^(n+1) - 1\")\n",
        "valid_untuk = []\n",
        "\n",
        "for n in range(0, batas_atas + 1):  # n bisa mulai dari 0\n",
        "    ''' Hitung Sisi Kiri: Jumlah Deret '''\n",
        "    sisi_kiri = 0\n",
        "\n",
        "    for i in range(0, n + 1):\n",
        "        sisi_kiri += (2 ** i)\n",
        "\n",
        "    ''' Hitung Sisi Kanan '''\n",
        "    sisi_kanan = (2 ** (n + 1)) - 1\n",
        "\n",
        "    ''' Uji Kesamaan '''\n",
        "    if sisi_kiri == sisi_kanan:\n",
        "        valid_untuk.append(str(n))\n",
        "\n",
        "print(\"=> Sehingga = Valid untuk n =\", \", \".join(valid_untuk))"
      ],
      "metadata": {
        "colab": {
          "base_uri": "https://localhost:8080/"
        },
        "id": "PFa9DS40jldq",
        "outputId": "b3ae804f-abe3-4b7c-acf4-2e7f8f9ab389"
      },
      "execution_count": 66,
      "outputs": [
        {
          "output_type": "stream",
          "name": "stdout",
          "text": [
            "2. 1 + 2 + 4 + ... + 2^n == 2^(n+1) - 1\n",
            "=> Sehingga = Valid untuk n = 0, 1, 2, 3, 4, 5, 6, 7, 8, 9, 10, 11, 12, 13, 14, 15, 16, 17, 18, 19, 20\n"
          ]
        }
      ]
    },
    {
      "cell_type": "markdown",
      "source": [
        ">Dari 2^0, Jumlah Semua Suku Akan Sampai 2^n.\n",
        "\n",
        "> Kemudian, Setelah Dibandingkan Dengan Rumus, Hasilnya Akan Cocok dan Valid untuk Semua n."
      ],
      "metadata": {
        "id": "pVJTpIu6w8mD"
      }
    },
    {
      "cell_type": "code",
      "source": [
        "''' Jumlah Kuadrat n Bilangan Asli Pertama = n(n+1)(2n+1)/6 '''\n",
        "\n",
        "print(\"3. 1^2 + 2^2 + ... + n^2 == n(n+1)(2n+1)/6\")\n",
        "valid_untuk = []\n",
        "\n",
        "for n in range(1, batas_atas + 1):\n",
        "    ''' Hitung Sisi Kiri: Jumlah Kuadrat '''\n",
        "    sisi_kiri = 0\n",
        "\n",
        "    for i in range(1, n + 1):\n",
        "        sisi_kiri += (i ** 2)\n",
        "\n",
        "    ''' Hitung Sisi Kanan '''\n",
        "    sisi_kanan = (n * (n + 1) * ((2 * n) + 1)) // 6\n",
        "\n",
        "    ''' Uji Kesamaan '''\n",
        "    if sisi_kiri == sisi_kanan:\n",
        "        valid_untuk.append(str(n))\n",
        "\n",
        "print(\"=> Sehingga = Valid untuk n =\", \", \".join(valid_untuk))"
      ],
      "metadata": {
        "colab": {
          "base_uri": "https://localhost:8080/"
        },
        "id": "5Hni-xi1juWq",
        "outputId": "654217de-49d8-47e2-be21-aa3a2483a9bf"
      },
      "execution_count": 67,
      "outputs": [
        {
          "output_type": "stream",
          "name": "stdout",
          "text": [
            "3. 1^2 + 2^2 + ... + n^2 == n(n+1)(2n+1)/6\n",
            "=> Sehingga = Valid untuk n = 1, 2, 3, 4, 5, 6, 7, 8, 9, 10, 11, 12, 13, 14, 15, 16, 17, 18, 19, 20\n"
          ]
        }
      ]
    },
    {
      "cell_type": "markdown",
      "source": [
        ">Setelah Menghitung Kuadrat Tiap Bilangan\n",
        "\n",
        "> Kemudian Dijumlahkan, Bandingkan dengan Rumus Tertutup. Sehingga, Akhirnya Valid untuk Semua n."
      ],
      "metadata": {
        "id": "Z34_M0PTxmhE"
      }
    },
    {
      "cell_type": "code",
      "source": [
        "''' Pertidaksamaan: n! >= 2^(n-1) '''\n",
        "\n",
        "print(\"4. n! >= 2^(n-1)\")\n",
        "valid_untuk = []\n",
        "\n",
        "''' Hitung faktorial (n!) '''\n",
        "faktorial = 1\n",
        "\n",
        "for n in range(1, batas_atas + 1):\n",
        "    faktorial *= n  # n! = 1 * 2 * 3 * ... * n\n",
        "    ''' Hitung sisi kanan 2^(n-1) '''\n",
        "    sisi_kanan = 2 ** (n - 1)\n",
        "\n",
        "    ''' Uji Pertidaksamaan '''\n",
        "    if faktorial >= sisi_kanan:\n",
        "        valid_untuk.append(str(n))\n",
        "    else:\n",
        "      print(f\"  Untuk n={n}, tidak valid. {faktorial} < {sisi_kanan}\")\n",
        "\n",
        "print(\"=> Sehingga = Valid untuk n =\", \", \".join(valid_untuk))"
      ],
      "metadata": {
        "colab": {
          "base_uri": "https://localhost:8080/"
        },
        "id": "-X8IEcQDjxaR",
        "outputId": "8a179d7a-f46a-4de9-d238-828db26ec88b"
      },
      "execution_count": 68,
      "outputs": [
        {
          "output_type": "stream",
          "name": "stdout",
          "text": [
            "4. n! >= 2^(n-1)\n",
            "=> Sehingga = Valid untuk n = 1, 2, 3, 4, 5, 6, 7, 8, 9, 10, 11, 12, 13, 14, 15, 16, 17, 18, 19, 20\n"
          ]
        }
      ]
    },
    {
      "cell_type": "markdown",
      "source": [
        ">Kemudian, Gunakan Variabel Faktorial yang Dikali Berterusan (1x2x3x..xn).\n",
        "\n",
        ">Setelah Dibandingkan dengan 2^n-1. Hasilnya Akan Valid untuk Semua n > 1."
      ],
      "metadata": {
        "id": "WYLz0jRzx2ap"
      }
    },
    {
      "cell_type": "code",
      "source": [
        "''' Pertidaksamaan: 2^n > n^2 '''\n",
        "\n",
        "print(\"5. 2^n > n^2 (Detail)\")\n",
        "print(\"\\nn | 2^n | n^2 | Valid?\")\n",
        "print(\"--|-----|-----|-------\")\n",
        "\n",
        "valid_untuk = []\n",
        "\n",
        "for n in range(0, 21):  # n dari 0 to 20\n",
        "    sisi_kiri = 2 ** n\n",
        "    sisi_kanan = n ** 2\n",
        "    valid = sisi_kiri > sisi_kanan\n",
        "\n",
        "    if valid:\n",
        "        valid_untuk.append(str(n))\n",
        "    print(f\"{n:2} | {sisi_kiri:3} | {sisi_kanan:3} | {valid}\")\n",
        "\n",
        "print(\"\\n=> Sehingga, Pertidaksamaan 2^n > n^2 valid untuk n =\", \", \".join(valid_untuk))"
      ],
      "metadata": {
        "colab": {
          "base_uri": "https://localhost:8080/"
        },
        "id": "TQ9ypQqdjzew",
        "outputId": "347996bb-39e4-4b50-a3f8-9157e2b7fe90"
      },
      "execution_count": 69,
      "outputs": [
        {
          "output_type": "stream",
          "name": "stdout",
          "text": [
            "5. 2^n > n^2 (Detail)\n",
            "\n",
            "n | 2^n | n^2 | Valid?\n",
            "--|-----|-----|-------\n",
            " 0 |   1 |   0 | True\n",
            " 1 |   2 |   1 | True\n",
            " 2 |   4 |   4 | False\n",
            " 3 |   8 |   9 | False\n",
            " 4 |  16 |  16 | False\n",
            " 5 |  32 |  25 | True\n",
            " 6 |  64 |  36 | True\n",
            " 7 | 128 |  49 | True\n",
            " 8 | 256 |  64 | True\n",
            " 9 | 512 |  81 | True\n",
            "10 | 1024 | 100 | True\n",
            "11 | 2048 | 121 | True\n",
            "12 | 4096 | 144 | True\n",
            "13 | 8192 | 169 | True\n",
            "14 | 16384 | 196 | True\n",
            "15 | 32768 | 225 | True\n",
            "16 | 65536 | 256 | True\n",
            "17 | 131072 | 289 | True\n",
            "18 | 262144 | 324 | True\n",
            "19 | 524288 | 361 | True\n",
            "20 | 1048576 | 400 | True\n",
            "\n",
            "=> Sehingga, Pertidaksamaan 2^n > n^2 valid untuk n = 0, 1, 5, 6, 7, 8, 9, 10, 11, 12, 13, 14, 15, 16, 17, 18, 19, 20\n"
          ]
        }
      ]
    },
    {
      "cell_type": "markdown",
      "source": [
        ">Dari Tabel Perbandingan 2^n dan n^2, Hasilnya Akan Terlihat. Bahwa:\n",
        "* n = 1 Benar (2>1)\n",
        "* n = 2, 3, 4 Salah (Sama atau Lebih Kecil)\n",
        "* Setelah n = 5, Kembali Benar."
      ],
      "metadata": {
        "id": "Hw_X0WBvyH1u"
      }
    }
  ]
}